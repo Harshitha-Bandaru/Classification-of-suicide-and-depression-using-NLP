{
 "cells": [
  {
   "cell_type": "code",
   "execution_count": 1,
   "id": "af29d539",
   "metadata": {},
   "outputs": [
    {
     "name": "stdout",
     "output_type": "stream",
     "text": [
      "Requirement already satisfied: praw in c:\\users\\harshitha\\anaconda3\\lib\\site-packages (7.5.0)\n",
      "Requirement already satisfied: websocket-client>=0.54.0 in c:\\users\\harshitha\\anaconda3\\lib\\site-packages (from praw) (1.3.2)\n",
      "Requirement already satisfied: update-checker>=0.18 in c:\\users\\harshitha\\anaconda3\\lib\\site-packages (from praw) (0.18.0)\n",
      "Requirement already satisfied: prawcore<3,>=2.1 in c:\\users\\harshitha\\anaconda3\\lib\\site-packages (from praw) (2.3.0)\n",
      "Requirement already satisfied: requests<3.0,>=2.6.0 in c:\\users\\harshitha\\anaconda3\\lib\\site-packages (from prawcore<3,>=2.1->praw) (2.26.0)\n",
      "Requirement already satisfied: idna<4,>=2.5 in c:\\users\\harshitha\\anaconda3\\lib\\site-packages (from requests<3.0,>=2.6.0->prawcore<3,>=2.1->praw) (3.2)\n",
      "Requirement already satisfied: charset-normalizer~=2.0.0 in c:\\users\\harshitha\\anaconda3\\lib\\site-packages (from requests<3.0,>=2.6.0->prawcore<3,>=2.1->praw) (2.0.4)\n",
      "Requirement already satisfied: certifi>=2017.4.17 in c:\\users\\harshitha\\anaconda3\\lib\\site-packages (from requests<3.0,>=2.6.0->prawcore<3,>=2.1->praw) (2021.10.8)\n",
      "Requirement already satisfied: urllib3<1.27,>=1.21.1 in c:\\users\\harshitha\\anaconda3\\lib\\site-packages (from requests<3.0,>=2.6.0->prawcore<3,>=2.1->praw) (1.26.7)\n"
     ]
    }
   ],
   "source": [
    "!pip3 install praw\n",
    "import pandas as pd\n",
    "import numpy as np\n",
    "import praw\n",
    "from praw.models import MoreComments\n",
    "import datetime\n",
    "\n",
    "\n",
    "\n",
    "def pull_Reddit_Posts(subreddit, num_posts):\n",
    "\n",
    "\treddit = praw.Reddit(client_id='gygU-yuE8--I-8MAdlJ2hw', client_secret='_G3EhPynDlOL7dnVeT3r_OtbgbCU4g', user_agent='HarshithaBandaru')\n",
    "\n",
    "\tsubreddit = reddit.subreddit(subreddit)\n",
    "\n",
    "\tposts = []\n",
    "\tcomments = []\n",
    "\tcomments_fo = []\n",
    "\n",
    "\n",
    "\t#get posts\n",
    "\tfor post in subreddit.hot(limit=num_posts):\n",
    "\t    posts.append([post.title, post.score, post.id, post.subreddit, post.url, post.num_comments, post.selftext, datetime.datetime.fromtimestamp(post.created)])\n",
    "\n",
    "\tposts = pd.DataFrame(posts,columns=['title', 'score', 'p_id', 'subreddit', 'url', 'num_comments', 'body', 'p_timestamp'])\n",
    "\n",
    "\t#get all comments, identify first-order comments\n",
    "\tfor post_id in posts['p_id']:\n",
    "\t\tsubmission = reddit.submission(id=post_id)\n",
    "\t\tfor top_level_comment in submission.comments.list(): #get all comments      \n",
    "\t\t\tif isinstance(top_level_comment, MoreComments):\n",
    "\t\t\t\tcontinue\n",
    "\t\t\tcomments.append([post_id, top_level_comment.id, top_level_comment.body, datetime.datetime.fromtimestamp(top_level_comment.created)])\n",
    "\n",
    "\t\tfor top_level_comment in submission.comments: #get all first-order comments\n",
    "\t\t\tcomments_fo.append([top_level_comment.id, 'Y'])\n",
    "\n",
    "\n",
    "\n",
    "\tcomments_fo = pd.DataFrame(comments_fo, columns=['c_id', 'Post_Reply'])\n",
    "\tcomments = pd.DataFrame(comments, columns=['p_id', 'c_id', 'comment', 'c_timestamp'])\n",
    "\n",
    "\n",
    "\tdf = pd.merge(pd.merge(posts, comments, how='left', on='p_id'), comments_fo, how='left', on='c_id')\n",
    "\tdf['Time_to_Comment'] = df['c_timestamp'] - df['p_timestamp']\n",
    "\tdf['Post_Reply'] = df['Post_Reply'].fillna('N')\n",
    "\n",
    "\treturn df\n",
    "\n",
    "\n",
    "pull_Reddit_Posts('depression', 10000).to_csv('depression_posts.csv', index=False)\n",
    "pull_Reddit_Posts('suicidewatch', 10000).to_csv('suicidewatch_posts.csv', index=False)\n",
    "\n"
   ]
  },
  {
   "cell_type": "code",
   "execution_count": null,
   "id": "e428089f",
   "metadata": {},
   "outputs": [],
   "source": []
  }
 ],
 "metadata": {
  "kernelspec": {
   "display_name": "Python 3 (ipykernel)",
   "language": "python",
   "name": "python3"
  },
  "language_info": {
   "codemirror_mode": {
    "name": "ipython",
    "version": 3
   },
   "file_extension": ".py",
   "mimetype": "text/x-python",
   "name": "python",
   "nbconvert_exporter": "python",
   "pygments_lexer": "ipython3",
   "version": "3.9.7"
  }
 },
 "nbformat": 4,
 "nbformat_minor": 5
}
